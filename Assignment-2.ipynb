{
 "cells": [
  {
   "cell_type": "markdown",
   "id": "e309a939-e287-49c3-9615-4a9923ff404c",
   "metadata": {},
   "source": [
    "# Numpy"
   ]
  },
  {
   "cell_type": "code",
   "execution_count": 1,
   "id": "05d821f7-8e75-41f6-8091-c38c6819f8c4",
   "metadata": {},
   "outputs": [],
   "source": [
    "import numpy as np\n",
    "from numpy import linalg as la"
   ]
  },
  {
   "cell_type": "code",
   "execution_count": 2,
   "id": "fd60f266-d2b5-4739-8517-159fcb4cf51b",
   "metadata": {},
   "outputs": [],
   "source": [
    "#Defining 5 different dimension matrices\n",
    "a1=np.array([1,2])\n",
    "a2=np.array([[3,4],[5,6]])\n",
    "a3=np.array([[[9,7],[2,3]]])\n",
    "a4=np.array([[[[2,5],[9,8]]]])\n",
    "a5=np.array([[[[[6,4],[2,5]]]]])"
   ]
  },
  {
   "cell_type": "code",
   "execution_count": 3,
   "id": "f3e2c629-5a4d-4ed0-beb3-1de7a008a24a",
   "metadata": {},
   "outputs": [
    {
     "name": "stdout",
     "output_type": "stream",
     "text": [
      "[1 2]\n",
      "[[3 4]\n",
      " [5 6]]\n",
      "[[[9 7]\n",
      "  [2 3]]]\n",
      "[[[[2 5]\n",
      "   [9 8]]]]\n",
      "[[[[[6 4]\n",
      "    [2 5]]]]]\n"
     ]
    }
   ],
   "source": [
    "print(a1)\n",
    "print(a2)\n",
    "print(a3)\n",
    "print(a4)\n",
    "print(a5)"
   ]
  },
  {
   "cell_type": "code",
   "execution_count": 17,
   "id": "da986732-5ccd-4bda-9acb-814d2525ac73",
   "metadata": {},
   "outputs": [],
   "source": [
    "#Determinant of 1d matrix\n",
    "#print(la.det(a1))"
   ]
  },
  {
   "cell_type": "code",
   "execution_count": 4,
   "id": "87dde718-f323-4d6b-9942-2e72d3312544",
   "metadata": {},
   "outputs": [
    {
     "name": "stdout",
     "output_type": "stream",
     "text": [
      "-1.9999999999999971\n"
     ]
    }
   ],
   "source": [
    "#Determinant of 2d matrix\n",
    "print(la.det(a2))"
   ]
  },
  {
   "cell_type": "code",
   "execution_count": 5,
   "id": "15fdf892-e64a-474e-bb29-420ee4f03e23",
   "metadata": {},
   "outputs": [
    {
     "name": "stdout",
     "output_type": "stream",
     "text": [
      "[13.]\n"
     ]
    }
   ],
   "source": [
    "#Determinant of 3d matrix\n",
    "print(la.det(a3))"
   ]
  },
  {
   "cell_type": "code",
   "execution_count": 6,
   "id": "ccf085ef-d57a-4c59-bf01-29fa161d1488",
   "metadata": {},
   "outputs": [
    {
     "name": "stdout",
     "output_type": "stream",
     "text": [
      "[[-29.]]\n"
     ]
    }
   ],
   "source": [
    "#Determinant of 4d matrix\n",
    "print(la.det(a4))"
   ]
  },
  {
   "cell_type": "code",
   "execution_count": 7,
   "id": "86949636-dd59-4402-97ca-958798f046ef",
   "metadata": {},
   "outputs": [
    {
     "name": "stdout",
     "output_type": "stream",
     "text": [
      "[[[22.]]]\n"
     ]
    }
   ],
   "source": [
    "#Determinant of 5d matrix\n",
    "print(la.det(a5))"
   ]
  },
  {
   "cell_type": "code",
   "execution_count": 18,
   "id": "939f52cb-4860-43ef-9b4a-3fdd9beafc0b",
   "metadata": {},
   "outputs": [],
   "source": [
    "#Inverse of 1d\n",
    "#print(la.inv(a1))"
   ]
  },
  {
   "cell_type": "code",
   "execution_count": 8,
   "id": "81a011b2-3ed0-48d5-be56-30e4c29a6692",
   "metadata": {},
   "outputs": [
    {
     "name": "stdout",
     "output_type": "stream",
     "text": [
      "[[-3.   2. ]\n",
      " [ 2.5 -1.5]]\n"
     ]
    }
   ],
   "source": [
    "#inverse of 2d\n",
    "print(la.inv(a2))"
   ]
  },
  {
   "cell_type": "code",
   "execution_count": 9,
   "id": "1a3e61da-ae7c-4c59-8812-f2feface9804",
   "metadata": {},
   "outputs": [
    {
     "name": "stdout",
     "output_type": "stream",
     "text": [
      "[[[ 0.23076923 -0.53846154]\n",
      "  [-0.15384615  0.69230769]]]\n"
     ]
    }
   ],
   "source": [
    "#Inverse of 3d\n",
    "print(la.inv(a3))"
   ]
  },
  {
   "cell_type": "code",
   "execution_count": 10,
   "id": "7758f808-812e-4798-a7f2-030354f978b5",
   "metadata": {},
   "outputs": [
    {
     "name": "stdout",
     "output_type": "stream",
     "text": [
      "[[[[-0.27586207  0.17241379]\n",
      "   [ 0.31034483 -0.06896552]]]]\n"
     ]
    }
   ],
   "source": [
    "#Inverse of 4d\n",
    "print(la.inv(a4))"
   ]
  },
  {
   "cell_type": "code",
   "execution_count": 11,
   "id": "81e5b7aa-e929-4e9f-a182-770d32f5ef29",
   "metadata": {},
   "outputs": [
    {
     "name": "stdout",
     "output_type": "stream",
     "text": [
      "[[[[[ 0.22727273 -0.18181818]\n",
      "    [-0.09090909  0.27272727]]]]]\n"
     ]
    }
   ],
   "source": [
    "#Inverse of 5d\n",
    "print(la.inv(a5))"
   ]
  },
  {
   "cell_type": "code",
   "execution_count": 12,
   "id": "225b9347-6f85-4ba5-8168-ef40a7f18446",
   "metadata": {},
   "outputs": [
    {
     "name": "stdout",
     "output_type": "stream",
     "text": [
      "1\n"
     ]
    }
   ],
   "source": [
    "#Rank of 1d\n",
    "print(la.matrix_rank(a1))"
   ]
  },
  {
   "cell_type": "code",
   "execution_count": 13,
   "id": "32b90c63-a9b5-46f4-b234-6f55ed3cb4f3",
   "metadata": {},
   "outputs": [
    {
     "name": "stdout",
     "output_type": "stream",
     "text": [
      "2\n"
     ]
    }
   ],
   "source": [
    "#Rank of 2d\n",
    "print(la.matrix_rank(a2))"
   ]
  },
  {
   "cell_type": "code",
   "execution_count": 14,
   "id": "f1506f49-a08a-42bf-b8e8-dbe889379210",
   "metadata": {},
   "outputs": [
    {
     "name": "stdout",
     "output_type": "stream",
     "text": [
      "[2]\n"
     ]
    }
   ],
   "source": [
    "#Rank of 3d\n",
    "print(la.matrix_rank(a3))"
   ]
  },
  {
   "cell_type": "code",
   "execution_count": 15,
   "id": "e969a5e7-317e-4469-8ca7-f331ab2a3d9c",
   "metadata": {},
   "outputs": [
    {
     "name": "stdout",
     "output_type": "stream",
     "text": [
      "[[2]]\n"
     ]
    }
   ],
   "source": [
    "#Rank of 4d\n",
    "print(la.matrix_rank(a4))"
   ]
  },
  {
   "cell_type": "code",
   "execution_count": 16,
   "id": "d325221b-11d7-426b-93ee-b6192999a8be",
   "metadata": {},
   "outputs": [
    {
     "name": "stdout",
     "output_type": "stream",
     "text": [
      "[[[2]]]\n"
     ]
    }
   ],
   "source": [
    "#Rank of 5d\n",
    "print(la.matrix_rank(a5))"
   ]
  },
  {
   "cell_type": "code",
   "execution_count": 19,
   "id": "f02f9350-53b0-479b-850e-9ce38e29fbf3",
   "metadata": {},
   "outputs": [],
   "source": [
    "#Trace of 1d\n",
    "#print(np.trace(a1))"
   ]
  },
  {
   "cell_type": "code",
   "execution_count": 20,
   "id": "187a9df5-f09e-4ae6-a2ba-6e0b6cebaa89",
   "metadata": {},
   "outputs": [
    {
     "name": "stdout",
     "output_type": "stream",
     "text": [
      "9\n"
     ]
    }
   ],
   "source": [
    "#Trace of 2d\n",
    "print(np.trace(a2))"
   ]
  },
  {
   "cell_type": "code",
   "execution_count": 21,
   "id": "4346b07a-8f5a-4956-928f-0300cdf4c9f0",
   "metadata": {},
   "outputs": [
    {
     "name": "stdout",
     "output_type": "stream",
     "text": [
      "[9 7]\n"
     ]
    }
   ],
   "source": [
    "#Trace of 3d\n",
    "print(np.trace(a3))"
   ]
  },
  {
   "cell_type": "code",
   "execution_count": 22,
   "id": "bc0bd5fc-6c9b-4911-82c4-c91cd2695aab",
   "metadata": {},
   "outputs": [
    {
     "name": "stdout",
     "output_type": "stream",
     "text": [
      "[[2 5]\n",
      " [9 8]]\n"
     ]
    }
   ],
   "source": [
    "#Trace of 4d\n",
    "print(np.trace(a4))"
   ]
  },
  {
   "cell_type": "code",
   "execution_count": 23,
   "id": "79eecf32-368b-4ea0-811b-e3c3faa83520",
   "metadata": {},
   "outputs": [
    {
     "name": "stdout",
     "output_type": "stream",
     "text": [
      "[[[6 4]\n",
      "  [2 5]]]\n"
     ]
    }
   ],
   "source": [
    "#Trace of 5d\n",
    "print(np.trace(a5))"
   ]
  },
  {
   "cell_type": "code",
   "execution_count": 24,
   "id": "4d9e4d65-2d7c-4cd4-93d7-ff73aae86009",
   "metadata": {},
   "outputs": [
    {
     "name": "stdout",
     "output_type": "stream",
     "text": [
      "[[1 0]\n",
      " [0 2]]\n"
     ]
    }
   ],
   "source": [
    "#Diagonal of 1d\n",
    "print(np.diag(a1))"
   ]
  },
  {
   "cell_type": "code",
   "execution_count": 25,
   "id": "657a39c7-460c-4dac-b93e-0d3a50e79681",
   "metadata": {},
   "outputs": [
    {
     "name": "stdout",
     "output_type": "stream",
     "text": [
      "[3 6]\n"
     ]
    }
   ],
   "source": [
    "#Diagonal of 2d\n",
    "print(np.diag(a2))"
   ]
  },
  {
   "cell_type": "code",
   "execution_count": 26,
   "id": "cbe4ce21-d58d-44ec-a736-5465952f7434",
   "metadata": {},
   "outputs": [],
   "source": [
    "#Diagonal of 3d\n",
    "#print(np.diag(a3))\n"
   ]
  },
  {
   "cell_type": "code",
   "execution_count": 27,
   "id": "d48415bd-b1ad-4623-b039-dae2eb69a009",
   "metadata": {},
   "outputs": [],
   "source": [
    "#Diagonal of 4d\n",
    "#print(np.diag(a4))"
   ]
  },
  {
   "cell_type": "code",
   "execution_count": 28,
   "id": "06f1589e-bbfc-4008-8a62-1f35d9e3c1fa",
   "metadata": {},
   "outputs": [],
   "source": [
    "#Diagonal of 5d\n",
    "#print(np.diag(a5))"
   ]
  },
  {
   "cell_type": "code",
   "execution_count": 29,
   "id": "7ec5c985-0697-4c7e-a52b-9d1ba6e61b37",
   "metadata": {},
   "outputs": [],
   "source": [
    "#Eigen roots and vectors for 1d\n",
    "#x,y=la.eig(a1)\n",
    "#print(\"Roots:\",x)\n",
    "#print(\"Vectors:\",y)"
   ]
  },
  {
   "cell_type": "code",
   "execution_count": 30,
   "id": "dadc3961-1912-41ed-91f3-7e3e7487832f",
   "metadata": {},
   "outputs": [
    {
     "name": "stdout",
     "output_type": "stream",
     "text": [
      "Roots: [-0.21699057  9.21699057]\n",
      "Vectors: [[-0.77925158 -0.54107946]\n",
      " [ 0.62671124 -0.84097147]]\n"
     ]
    }
   ],
   "source": [
    "x,y=la.eig(a2)\n",
    "print(\"Roots:\",x)\n",
    "print(\"Vectors:\",y)"
   ]
  },
  {
   "cell_type": "code",
   "execution_count": 32,
   "id": "a5793e51-f39a-43dc-9539-1255a852823b",
   "metadata": {},
   "outputs": [
    {
     "name": "stdout",
     "output_type": "stream",
     "text": [
      "Roots: [[10.79583152  1.20416848]]\n",
      "Vectors: [[[ 0.96863191 -0.66810749]\n",
      "  [ 0.24849996  0.74406477]]]\n"
     ]
    }
   ],
   "source": [
    "x,y=la.eig(a3)\n",
    "print(\"Roots:\",x)\n",
    "print(\"Vectors:\",y)"
   ]
  },
  {
   "cell_type": "code",
   "execution_count": 33,
   "id": "064b871a-b63d-4acf-9fbd-652073c9a80e",
   "metadata": {},
   "outputs": [
    {
     "name": "stdout",
     "output_type": "stream",
     "text": [
      "Roots: [[[-2.34846923 12.34846923]]]\n",
      "Vectors: [[[[-0.75455746 -0.43504451]\n",
      "   [ 0.65623398 -0.90040895]]]]\n"
     ]
    }
   ],
   "source": [
    "x,y=la.eig(a4)\n",
    "print(\"Roots:\",x)\n",
    "print(\"Vectors:\",y)"
   ]
  },
  {
   "cell_type": "code",
   "execution_count": 34,
   "id": "fc90b3e6-b296-4c7a-86b8-21d0c3a99be7",
   "metadata": {},
   "outputs": [
    {
     "name": "stdout",
     "output_type": "stream",
     "text": [
      "Roots: [[[[8.37228132 2.62771868]]]]\n",
      "Vectors: [[[[[ 0.86011126 -0.76454754]\n",
      "    [ 0.51010647  0.64456735]]]]]\n"
     ]
    }
   ],
   "source": [
    "x,y=la.eig(a5)\n",
    "print(\"Roots:\",x)\n",
    "print(\"Vectors:\",y)"
   ]
  },
  {
   "cell_type": "code",
   "execution_count": 35,
   "id": "b26e3a2b-adc0-4ee8-a712-48872ab7e3b1",
   "metadata": {},
   "outputs": [],
   "source": [
    "#Eigen values for 1d matrix\n",
    "#print(la.eigvals(a1))"
   ]
  },
  {
   "cell_type": "code",
   "execution_count": 36,
   "id": "17889a22-4355-4e09-a906-ff496badd70a",
   "metadata": {},
   "outputs": [
    {
     "name": "stdout",
     "output_type": "stream",
     "text": [
      "[-0.21699057  9.21699057]\n"
     ]
    }
   ],
   "source": [
    "#Eigen values for 2d matrix\n",
    "print(la.eigvals(a2))"
   ]
  },
  {
   "cell_type": "code",
   "execution_count": 37,
   "id": "e5abe679-ee32-49f6-babc-18416f475795",
   "metadata": {},
   "outputs": [
    {
     "name": "stdout",
     "output_type": "stream",
     "text": [
      "[[10.79583152  1.20416848]]\n"
     ]
    }
   ],
   "source": [
    "#Eigen values for 3d matrix\n",
    "print(la.eigvals(a3))"
   ]
  },
  {
   "cell_type": "code",
   "execution_count": 38,
   "id": "83d24a47-7747-45a4-8de0-78a6ec44788b",
   "metadata": {},
   "outputs": [
    {
     "name": "stdout",
     "output_type": "stream",
     "text": [
      "[[[-2.34846923 12.34846923]]]\n"
     ]
    }
   ],
   "source": [
    "#Eigen values for 4d matrix\n",
    "print(la.eigvals(a4))"
   ]
  },
  {
   "cell_type": "code",
   "execution_count": 39,
   "id": "2a005bf5-ba04-401f-830c-71eb09d19ead",
   "metadata": {},
   "outputs": [
    {
     "name": "stdout",
     "output_type": "stream",
     "text": [
      "[[[[8.37228132 2.62771868]]]]\n"
     ]
    }
   ],
   "source": [
    "#Eigen values for 5d matrix\n",
    "print(la.eigvals(a5))"
   ]
  },
  {
   "cell_type": "markdown",
   "id": "9f93dc72-1376-430b-8f47-40374b1cb69e",
   "metadata": {},
   "source": [
    "# Pandas"
   ]
  },
  {
   "cell_type": "markdown",
   "id": "792119e0-ba6b-41cf-94a4-94d325967994",
   "metadata": {},
   "source": [
    "# Data1"
   ]
  },
  {
   "cell_type": "code",
   "execution_count": 41,
   "id": "db9e9d73-2b80-4f1a-a9c1-b4c774c68992",
   "metadata": {},
   "outputs": [
    {
     "data": {
      "text/html": [
       "<div>\n",
       "<style scoped>\n",
       "    .dataframe tbody tr th:only-of-type {\n",
       "        vertical-align: middle;\n",
       "    }\n",
       "\n",
       "    .dataframe tbody tr th {\n",
       "        vertical-align: top;\n",
       "    }\n",
       "\n",
       "    .dataframe thead th {\n",
       "        text-align: right;\n",
       "    }\n",
       "</style>\n",
       "<table border=\"1\" class=\"dataframe\">\n",
       "  <thead>\n",
       "    <tr style=\"text-align: right;\">\n",
       "      <th></th>\n",
       "      <th>Happiness Rank</th>\n",
       "      <th>Happiness Score</th>\n",
       "      <th>Standard Error</th>\n",
       "      <th>Economy (GDP per Capita)</th>\n",
       "      <th>Family</th>\n",
       "      <th>Health (Life Expectancy)</th>\n",
       "      <th>Freedom</th>\n",
       "      <th>Trust (Government Corruption)</th>\n",
       "      <th>Generosity</th>\n",
       "      <th>Dystopia Residual</th>\n",
       "    </tr>\n",
       "  </thead>\n",
       "  <tbody>\n",
       "    <tr>\n",
       "      <th>count</th>\n",
       "      <td>158.000000</td>\n",
       "      <td>158.000000</td>\n",
       "      <td>158.000000</td>\n",
       "      <td>158.000000</td>\n",
       "      <td>158.000000</td>\n",
       "      <td>158.000000</td>\n",
       "      <td>158.000000</td>\n",
       "      <td>158.000000</td>\n",
       "      <td>158.000000</td>\n",
       "      <td>158.000000</td>\n",
       "    </tr>\n",
       "    <tr>\n",
       "      <th>mean</th>\n",
       "      <td>79.493671</td>\n",
       "      <td>5.375734</td>\n",
       "      <td>0.047885</td>\n",
       "      <td>0.846137</td>\n",
       "      <td>0.991046</td>\n",
       "      <td>0.630259</td>\n",
       "      <td>0.428615</td>\n",
       "      <td>0.143422</td>\n",
       "      <td>0.237296</td>\n",
       "      <td>2.098977</td>\n",
       "    </tr>\n",
       "    <tr>\n",
       "      <th>std</th>\n",
       "      <td>45.754363</td>\n",
       "      <td>1.145010</td>\n",
       "      <td>0.017146</td>\n",
       "      <td>0.403121</td>\n",
       "      <td>0.272369</td>\n",
       "      <td>0.247078</td>\n",
       "      <td>0.150693</td>\n",
       "      <td>0.120034</td>\n",
       "      <td>0.126685</td>\n",
       "      <td>0.553550</td>\n",
       "    </tr>\n",
       "    <tr>\n",
       "      <th>min</th>\n",
       "      <td>1.000000</td>\n",
       "      <td>2.839000</td>\n",
       "      <td>0.018480</td>\n",
       "      <td>0.000000</td>\n",
       "      <td>0.000000</td>\n",
       "      <td>0.000000</td>\n",
       "      <td>0.000000</td>\n",
       "      <td>0.000000</td>\n",
       "      <td>0.000000</td>\n",
       "      <td>0.328580</td>\n",
       "    </tr>\n",
       "    <tr>\n",
       "      <th>25%</th>\n",
       "      <td>40.250000</td>\n",
       "      <td>4.526000</td>\n",
       "      <td>0.037268</td>\n",
       "      <td>0.545808</td>\n",
       "      <td>0.856823</td>\n",
       "      <td>0.439185</td>\n",
       "      <td>0.328330</td>\n",
       "      <td>0.061675</td>\n",
       "      <td>0.150553</td>\n",
       "      <td>1.759410</td>\n",
       "    </tr>\n",
       "    <tr>\n",
       "      <th>50%</th>\n",
       "      <td>79.500000</td>\n",
       "      <td>5.232500</td>\n",
       "      <td>0.043940</td>\n",
       "      <td>0.910245</td>\n",
       "      <td>1.029510</td>\n",
       "      <td>0.696705</td>\n",
       "      <td>0.435515</td>\n",
       "      <td>0.107220</td>\n",
       "      <td>0.216130</td>\n",
       "      <td>2.095415</td>\n",
       "    </tr>\n",
       "    <tr>\n",
       "      <th>75%</th>\n",
       "      <td>118.750000</td>\n",
       "      <td>6.243750</td>\n",
       "      <td>0.052300</td>\n",
       "      <td>1.158448</td>\n",
       "      <td>1.214405</td>\n",
       "      <td>0.811013</td>\n",
       "      <td>0.549092</td>\n",
       "      <td>0.180255</td>\n",
       "      <td>0.309883</td>\n",
       "      <td>2.462415</td>\n",
       "    </tr>\n",
       "    <tr>\n",
       "      <th>max</th>\n",
       "      <td>158.000000</td>\n",
       "      <td>7.587000</td>\n",
       "      <td>0.136930</td>\n",
       "      <td>1.690420</td>\n",
       "      <td>1.402230</td>\n",
       "      <td>1.025250</td>\n",
       "      <td>0.669730</td>\n",
       "      <td>0.551910</td>\n",
       "      <td>0.795880</td>\n",
       "      <td>3.602140</td>\n",
       "    </tr>\n",
       "  </tbody>\n",
       "</table>\n",
       "</div>"
      ],
      "text/plain": [
       "       Happiness Rank  Happiness Score  Standard Error  \\\n",
       "count      158.000000       158.000000      158.000000   \n",
       "mean        79.493671         5.375734        0.047885   \n",
       "std         45.754363         1.145010        0.017146   \n",
       "min          1.000000         2.839000        0.018480   \n",
       "25%         40.250000         4.526000        0.037268   \n",
       "50%         79.500000         5.232500        0.043940   \n",
       "75%        118.750000         6.243750        0.052300   \n",
       "max        158.000000         7.587000        0.136930   \n",
       "\n",
       "       Economy (GDP per Capita)      Family  Health (Life Expectancy)  \\\n",
       "count                158.000000  158.000000                158.000000   \n",
       "mean                   0.846137    0.991046                  0.630259   \n",
       "std                    0.403121    0.272369                  0.247078   \n",
       "min                    0.000000    0.000000                  0.000000   \n",
       "25%                    0.545808    0.856823                  0.439185   \n",
       "50%                    0.910245    1.029510                  0.696705   \n",
       "75%                    1.158448    1.214405                  0.811013   \n",
       "max                    1.690420    1.402230                  1.025250   \n",
       "\n",
       "          Freedom  Trust (Government Corruption)  Generosity  \\\n",
       "count  158.000000                     158.000000  158.000000   \n",
       "mean     0.428615                       0.143422    0.237296   \n",
       "std      0.150693                       0.120034    0.126685   \n",
       "min      0.000000                       0.000000    0.000000   \n",
       "25%      0.328330                       0.061675    0.150553   \n",
       "50%      0.435515                       0.107220    0.216130   \n",
       "75%      0.549092                       0.180255    0.309883   \n",
       "max      0.669730                       0.551910    0.795880   \n",
       "\n",
       "       Dystopia Residual  \n",
       "count         158.000000  \n",
       "mean            2.098977  \n",
       "std             0.553550  \n",
       "min             0.328580  \n",
       "25%             1.759410  \n",
       "50%             2.095415  \n",
       "75%             2.462415  \n",
       "max             3.602140  "
      ]
     },
     "execution_count": 41,
     "metadata": {},
     "output_type": "execute_result"
    }
   ],
   "source": [
    "import pandas as pd\n",
    "#file = \"C:\\\\Users\\\\DELL\\\\Downloads\\\\7_Uber.csv\"\n",
    "data=pd.read_csv(\"C:/Users/DELL Latitude E5490/Downloads/1_2015.csv\")\n",
    "data.describe()\n"
   ]
  },
  {
   "cell_type": "code",
   "execution_count": 42,
   "id": "d56e1573-54c7-4d41-bd73-04b67757affd",
   "metadata": {},
   "outputs": [
    {
     "name": "stdout",
     "output_type": "stream",
     "text": [
      "<class 'pandas.core.frame.DataFrame'>\n",
      "RangeIndex: 158 entries, 0 to 157\n",
      "Data columns (total 12 columns):\n",
      " #   Column                         Non-Null Count  Dtype  \n",
      "---  ------                         --------------  -----  \n",
      " 0   Country                        158 non-null    object \n",
      " 1   Region                         158 non-null    object \n",
      " 2   Happiness Rank                 158 non-null    int64  \n",
      " 3   Happiness Score                158 non-null    float64\n",
      " 4   Standard Error                 158 non-null    float64\n",
      " 5   Economy (GDP per Capita)       158 non-null    float64\n",
      " 6   Family                         158 non-null    float64\n",
      " 7   Health (Life Expectancy)       158 non-null    float64\n",
      " 8   Freedom                        158 non-null    float64\n",
      " 9   Trust (Government Corruption)  158 non-null    float64\n",
      " 10  Generosity                     158 non-null    float64\n",
      " 11  Dystopia Residual              158 non-null    float64\n",
      "dtypes: float64(9), int64(1), object(2)\n",
      "memory usage: 14.9+ KB\n"
     ]
    }
   ],
   "source": [
    "data.info()"
   ]
  },
  {
   "cell_type": "code",
   "execution_count": 43,
   "id": "691278a1-8db7-4394-a709-c4e216750e9a",
   "metadata": {},
   "outputs": [
    {
     "name": "stdout",
     "output_type": "stream",
     "text": [
      "\n",
      "Sum:\n",
      " Country                          SwitzerlandIcelandDenmarkNorwayCanadaFinlandNe...\n",
      "Region                           Western EuropeWestern EuropeWestern EuropeWest...\n",
      "Happiness Rank                                                               12560\n",
      "Happiness Score                                                            849.366\n",
      "Standard Error                                                             7.56579\n",
      "Economy (GDP per Capita)                                                 133.68968\n",
      "Family                                                                   156.58526\n",
      "Health (Life Expectancy)                                                  99.58098\n",
      "Freedom                                                                   67.72116\n",
      "Trust (Government Corruption)                                             22.66065\n",
      "Generosity                                                                37.49269\n",
      "Dystopia Residual                                                        331.63833\n",
      "dtype: object\n"
     ]
    }
   ],
   "source": [
    "print(\"\\nSum:\\n\",data.sum())"
   ]
  },
  {
   "cell_type": "code",
   "execution_count": 44,
   "id": "bf15452b-89c1-4cef-a393-daa7bb534449",
   "metadata": {},
   "outputs": [
    {
     "name": "stdout",
     "output_type": "stream",
     "text": [
      "\n",
      "Cummulative sum\n",
      ":                                                Country  \\\n",
      "0                                          Switzerland   \n",
      "1                                   SwitzerlandIceland   \n",
      "2                            SwitzerlandIcelandDenmark   \n",
      "3                      SwitzerlandIcelandDenmarkNorway   \n",
      "4                SwitzerlandIcelandDenmarkNorwayCanada   \n",
      "..                                                 ...   \n",
      "153  SwitzerlandIcelandDenmarkNorwayCanadaFinlandNe...   \n",
      "154  SwitzerlandIcelandDenmarkNorwayCanadaFinlandNe...   \n",
      "155  SwitzerlandIcelandDenmarkNorwayCanadaFinlandNe...   \n",
      "156  SwitzerlandIcelandDenmarkNorwayCanadaFinlandNe...   \n",
      "157  SwitzerlandIcelandDenmarkNorwayCanadaFinlandNe...   \n",
      "\n",
      "                                                Region  Happiness Rank  \\\n",
      "0                                       Western Europe               1   \n",
      "1                         Western EuropeWestern Europe               3   \n",
      "2           Western EuropeWestern EuropeWestern Europe               6   \n",
      "3    Western EuropeWestern EuropeWestern EuropeWest...              10   \n",
      "4    Western EuropeWestern EuropeWestern EuropeWest...              15   \n",
      "..                                                 ...             ...   \n",
      "153  Western EuropeWestern EuropeWestern EuropeWest...           11934   \n",
      "154  Western EuropeWestern EuropeWestern EuropeWest...           12089   \n",
      "155  Western EuropeWestern EuropeWestern EuropeWest...           12245   \n",
      "156  Western EuropeWestern EuropeWestern EuropeWest...           12402   \n",
      "157  Western EuropeWestern EuropeWestern EuropeWest...           12560   \n",
      "\n",
      "     Happiness Score  Standard Error  Economy (GDP per Capita)     Family  \\\n",
      "0              7.587         0.03411                   1.39651    1.34951   \n",
      "1             15.148         0.08295                   2.69883    2.75174   \n",
      "2             22.675         0.11623                   4.02431    4.11232   \n",
      "3             30.197         0.15503                   5.48331    5.44327   \n",
      "4             37.624         0.19056                   6.80960    6.76588   \n",
      "..               ...             ...                       ...        ...   \n",
      "153          837.276         7.32523                 132.51585  155.20069   \n",
      "154          840.616         7.36179                 132.80250  155.55455   \n",
      "155          843.622         7.41194                 133.46570  156.02944   \n",
      "156          846.527         7.49852                 133.48100  156.44531   \n",
      "157          849.366         7.56579                 133.68968  156.58526   \n",
      "\n",
      "     Health (Life Expectancy)   Freedom  Trust (Government Corruption)  \\\n",
      "0                     0.94143   0.66557                        0.41978   \n",
      "1                     1.88927   1.29434                        0.56123   \n",
      "2                     2.76391   1.94372                        1.04480   \n",
      "3                     3.64912   2.61345                        1.40983   \n",
      "4                     4.55475   3.24642                        1.73940   \n",
      "..                        ...       ...                            ...   \n",
      "153                  98.03156  66.59679                       22.18356   \n",
      "154                  98.35066  67.08129                       22.26366   \n",
      "155                  99.07259  67.23813                       22.45272   \n",
      "156                  99.29655  67.35663                       22.55334   \n",
      "157                  99.58098  67.72116                       22.66065   \n",
      "\n",
      "     Generosity  Dystopia Residual  \n",
      "0       0.29678            2.51738  \n",
      "1       0.73308            5.21939  \n",
      "2       1.07447            7.71143  \n",
      "3       1.42146           10.17674  \n",
      "4       1.87957           12.62850  \n",
      "..          ...                ...  \n",
      "153    36.47422          326.27619  \n",
      "154    36.65682          327.90947  \n",
      "155    37.12861          328.23805  \n",
      "156    37.32588          330.07107  \n",
      "157    37.49269          331.63833  \n",
      "\n",
      "[158 rows x 12 columns]\n"
     ]
    }
   ],
   "source": [
    "print(\"\\nCummulative sum\\n:\",data.cumsum())"
   ]
  },
  {
   "cell_type": "code",
   "execution_count": 46,
   "id": "cede5b92-826d-4e78-b07d-3f22728a8f54",
   "metadata": {},
   "outputs": [
    {
     "name": "stdout",
     "output_type": "stream",
     "text": [
      "\n",
      "Count:\n",
      " Country                          158\n",
      "Region                           158\n",
      "Happiness Rank                   158\n",
      "Happiness Score                  158\n",
      "Standard Error                   158\n",
      "Economy (GDP per Capita)         158\n",
      "Family                           158\n",
      "Health (Life Expectancy)         158\n",
      "Freedom                          158\n",
      "Trust (Government Corruption)    158\n",
      "Generosity                       158\n",
      "Dystopia Residual                158\n",
      "dtype: int64\n"
     ]
    }
   ],
   "source": [
    "print(\"\\nCount:\\n\",data.count())"
   ]
  },
  {
   "cell_type": "code",
   "execution_count": 47,
   "id": "7b6b5432-f50e-4880-94f3-bc00a3ac5a98",
   "metadata": {},
   "outputs": [
    {
     "name": "stdout",
     "output_type": "stream",
     "text": [
      "\n",
      "Max:\n",
      " Country                                Zimbabwe\n",
      "Region                           Western Europe\n",
      "Happiness Rank                              158\n",
      "Happiness Score                           7.587\n",
      "Standard Error                          0.13693\n",
      "Economy (GDP per Capita)                1.69042\n",
      "Family                                  1.40223\n",
      "Health (Life Expectancy)                1.02525\n",
      "Freedom                                 0.66973\n",
      "Trust (Government Corruption)           0.55191\n",
      "Generosity                              0.79588\n",
      "Dystopia Residual                       3.60214\n",
      "dtype: object\n"
     ]
    }
   ],
   "source": [
    "print(\"\\nMax:\\n\",data.max())"
   ]
  },
  {
   "cell_type": "code",
   "execution_count": 48,
   "id": "8906a6a0-4987-4435-bab5-8e492bf7ab23",
   "metadata": {},
   "outputs": [
    {
     "name": "stdout",
     "output_type": "stream",
     "text": [
      "\n",
      "Min:\n",
      " Country                                        Afghanistan\n",
      "Region                           Australia and New Zealand\n",
      "Happiness Rank                                           1\n",
      "Happiness Score                                      2.839\n",
      "Standard Error                                     0.01848\n",
      "Economy (GDP per Capita)                               0.0\n",
      "Family                                                 0.0\n",
      "Health (Life Expectancy)                               0.0\n",
      "Freedom                                                0.0\n",
      "Trust (Government Corruption)                          0.0\n",
      "Generosity                                             0.0\n",
      "Dystopia Residual                                  0.32858\n",
      "dtype: object\n"
     ]
    }
   ],
   "source": [
    "print(\"\\nMin:\\n\",data.min())"
   ]
  },
  {
   "cell_type": "code",
   "execution_count": 49,
   "id": "49b78223-9474-461b-b0b6-431458b54d3e",
   "metadata": {},
   "outputs": [
    {
     "data": {
      "text/html": [
       "<div>\n",
       "<style scoped>\n",
       "    .dataframe tbody tr th:only-of-type {\n",
       "        vertical-align: middle;\n",
       "    }\n",
       "\n",
       "    .dataframe tbody tr th {\n",
       "        vertical-align: top;\n",
       "    }\n",
       "\n",
       "    .dataframe thead th {\n",
       "        text-align: right;\n",
       "    }\n",
       "</style>\n",
       "<table border=\"1\" class=\"dataframe\">\n",
       "  <thead>\n",
       "    <tr style=\"text-align: right;\">\n",
       "      <th></th>\n",
       "      <th>Country</th>\n",
       "      <th>Region</th>\n",
       "      <th>Happiness Rank</th>\n",
       "      <th>Happiness Score</th>\n",
       "      <th>Standard Error</th>\n",
       "      <th>Economy (GDP per Capita)</th>\n",
       "      <th>Family</th>\n",
       "      <th>Health (Life Expectancy)</th>\n",
       "      <th>Freedom</th>\n",
       "      <th>Trust (Government Corruption)</th>\n",
       "      <th>Generosity</th>\n",
       "      <th>Dystopia Residual</th>\n",
       "    </tr>\n",
       "  </thead>\n",
       "  <tbody>\n",
       "    <tr>\n",
       "      <th>0</th>\n",
       "      <td>Switzerland</td>\n",
       "      <td>Western Europe</td>\n",
       "      <td>1</td>\n",
       "      <td>7.587</td>\n",
       "      <td>0.03411</td>\n",
       "      <td>1.39651</td>\n",
       "      <td>1.34951</td>\n",
       "      <td>0.94143</td>\n",
       "      <td>0.66557</td>\n",
       "      <td>0.41978</td>\n",
       "      <td>0.29678</td>\n",
       "      <td>2.51738</td>\n",
       "    </tr>\n",
       "    <tr>\n",
       "      <th>1</th>\n",
       "      <td>Iceland</td>\n",
       "      <td>Western Europe</td>\n",
       "      <td>2</td>\n",
       "      <td>7.561</td>\n",
       "      <td>0.04884</td>\n",
       "      <td>1.30232</td>\n",
       "      <td>1.40223</td>\n",
       "      <td>0.94784</td>\n",
       "      <td>0.62877</td>\n",
       "      <td>0.14145</td>\n",
       "      <td>0.43630</td>\n",
       "      <td>2.70201</td>\n",
       "    </tr>\n",
       "    <tr>\n",
       "      <th>2</th>\n",
       "      <td>Denmark</td>\n",
       "      <td>Western Europe</td>\n",
       "      <td>3</td>\n",
       "      <td>7.527</td>\n",
       "      <td>0.03328</td>\n",
       "      <td>1.32548</td>\n",
       "      <td>1.36058</td>\n",
       "      <td>0.87464</td>\n",
       "      <td>0.64938</td>\n",
       "      <td>0.48357</td>\n",
       "      <td>0.34139</td>\n",
       "      <td>2.49204</td>\n",
       "    </tr>\n",
       "    <tr>\n",
       "      <th>3</th>\n",
       "      <td>Norway</td>\n",
       "      <td>Western Europe</td>\n",
       "      <td>4</td>\n",
       "      <td>7.522</td>\n",
       "      <td>0.03880</td>\n",
       "      <td>1.45900</td>\n",
       "      <td>1.33095</td>\n",
       "      <td>0.88521</td>\n",
       "      <td>0.66973</td>\n",
       "      <td>0.36503</td>\n",
       "      <td>0.34699</td>\n",
       "      <td>2.46531</td>\n",
       "    </tr>\n",
       "    <tr>\n",
       "      <th>4</th>\n",
       "      <td>Canada</td>\n",
       "      <td>North America</td>\n",
       "      <td>5</td>\n",
       "      <td>7.427</td>\n",
       "      <td>0.03553</td>\n",
       "      <td>1.32629</td>\n",
       "      <td>1.32261</td>\n",
       "      <td>0.90563</td>\n",
       "      <td>0.63297</td>\n",
       "      <td>0.32957</td>\n",
       "      <td>0.45811</td>\n",
       "      <td>2.45176</td>\n",
       "    </tr>\n",
       "  </tbody>\n",
       "</table>\n",
       "</div>"
      ],
      "text/plain": [
       "       Country          Region  Happiness Rank  Happiness Score  \\\n",
       "0  Switzerland  Western Europe               1            7.587   \n",
       "1      Iceland  Western Europe               2            7.561   \n",
       "2      Denmark  Western Europe               3            7.527   \n",
       "3       Norway  Western Europe               4            7.522   \n",
       "4       Canada   North America               5            7.427   \n",
       "\n",
       "   Standard Error  Economy (GDP per Capita)   Family  \\\n",
       "0         0.03411                   1.39651  1.34951   \n",
       "1         0.04884                   1.30232  1.40223   \n",
       "2         0.03328                   1.32548  1.36058   \n",
       "3         0.03880                   1.45900  1.33095   \n",
       "4         0.03553                   1.32629  1.32261   \n",
       "\n",
       "   Health (Life Expectancy)  Freedom  Trust (Government Corruption)  \\\n",
       "0                   0.94143  0.66557                        0.41978   \n",
       "1                   0.94784  0.62877                        0.14145   \n",
       "2                   0.87464  0.64938                        0.48357   \n",
       "3                   0.88521  0.66973                        0.36503   \n",
       "4                   0.90563  0.63297                        0.32957   \n",
       "\n",
       "   Generosity  Dystopia Residual  \n",
       "0     0.29678            2.51738  \n",
       "1     0.43630            2.70201  \n",
       "2     0.34139            2.49204  \n",
       "3     0.34699            2.46531  \n",
       "4     0.45811            2.45176  "
      ]
     },
     "execution_count": 49,
     "metadata": {},
     "output_type": "execute_result"
    }
   ],
   "source": [
    "data.head()"
   ]
  },
  {
   "cell_type": "code",
   "execution_count": 50,
   "id": "7aaa61f3-fbc4-4418-9f6e-55a7c248379d",
   "metadata": {},
   "outputs": [
    {
     "data": {
      "text/plain": [
       "Index(['Country', 'Region', 'Happiness Rank', 'Happiness Score',\n",
       "       'Standard Error', 'Economy (GDP per Capita)', 'Family',\n",
       "       'Health (Life Expectancy)', 'Freedom', 'Trust (Government Corruption)',\n",
       "       'Generosity', 'Dystopia Residual'],\n",
       "      dtype='object')"
      ]
     },
     "execution_count": 50,
     "metadata": {},
     "output_type": "execute_result"
    }
   ],
   "source": [
    "data.columns"
   ]
  },
  {
   "cell_type": "code",
   "execution_count": 51,
   "id": "a6a78429-1dea-469c-8b85-7b8a072f9beb",
   "metadata": {},
   "outputs": [],
   "source": [
    "new_data = data.drop([\"Country\",\"Region\"],axis=1)"
   ]
  },
  {
   "cell_type": "code",
   "execution_count": 52,
   "id": "a165ccbc-1ce1-4b48-9b41-38be6a24a70f",
   "metadata": {},
   "outputs": [
    {
     "name": "stdout",
     "output_type": "stream",
     "text": [
      "\n",
      "Mean:\n",
      " Happiness Rank                   79.493671\n",
      "Happiness Score                   5.375734\n",
      "Standard Error                    0.047885\n",
      "Economy (GDP per Capita)          0.846137\n",
      "Family                            0.991046\n",
      "Health (Life Expectancy)          0.630259\n",
      "Freedom                           0.428615\n",
      "Trust (Government Corruption)     0.143422\n",
      "Generosity                        0.237296\n",
      "Dystopia Residual                 2.098977\n",
      "dtype: float64\n"
     ]
    }
   ],
   "source": [
    "print(\"\\nMean:\\n\",new_data.mean())"
   ]
  },
  {
   "cell_type": "code",
   "execution_count": 53,
   "id": "0305c87f-6887-4256-ac34-1181fdb4f31a",
   "metadata": {},
   "outputs": [
    {
     "name": "stdout",
     "output_type": "stream",
     "text": [
      "\n",
      "Mean:\n",
      "      Happiness Rank  Happiness Score  Standard Error  \\\n",
      "0              82.0            5.192         0.03751   \n",
      "1               NaN              NaN         0.03780   \n",
      "2               NaN              NaN         0.04394   \n",
      "3               NaN              NaN         0.04934   \n",
      "4               NaN              NaN         0.05051   \n",
      "..              ...              ...             ...   \n",
      "153             NaN              NaN             NaN   \n",
      "154             NaN              NaN             NaN   \n",
      "155             NaN              NaN             NaN   \n",
      "156             NaN              NaN             NaN   \n",
      "157             NaN              NaN             NaN   \n",
      "\n",
      "     Economy (GDP per Capita)   Family  Health (Life Expectancy)  Freedom  \\\n",
      "0                     0.00000  0.00000                   0.92356  0.00000   \n",
      "1                     0.01530  0.13995                       NaN  0.07699   \n",
      "2                     0.01604  0.30285                       NaN  0.09245   \n",
      "3                     0.06940  0.35386                       NaN  0.10081   \n",
      "4                     0.07120  0.38174                       NaN  0.10384   \n",
      "..                        ...      ...                       ...      ...   \n",
      "153                   1.45900  1.34043                       NaN  0.65821   \n",
      "154                   1.52186  1.34951                       NaN  0.65980   \n",
      "155                   1.55422  1.36058                       NaN  0.66246   \n",
      "156                   1.56391  1.36948                       NaN  0.66557   \n",
      "157                   1.69042  1.40223                       NaN  0.66973   \n",
      "\n",
      "     Trust (Government Corruption)  Generosity  Dystopia Residual  \n",
      "0                          0.32524     0.00000            0.32858  \n",
      "1                              NaN     0.00199            0.65429  \n",
      "2                              NaN     0.02641            0.67042  \n",
      "3                              NaN     0.05444            0.67108  \n",
      "4                              NaN     0.05547            0.89991  \n",
      "..                             ...         ...                ...  \n",
      "153                            NaN     0.51535            3.10712  \n",
      "154                            NaN     0.51752            3.17728  \n",
      "155                            NaN     0.51912            3.19131  \n",
      "156                            NaN     0.57630            3.26001  \n",
      "157                            NaN     0.79588            3.60214  \n",
      "\n",
      "[158 rows x 10 columns]\n"
     ]
    }
   ],
   "source": [
    "print(\"\\nMean:\\n\",new_data.mode())"
   ]
  },
  {
   "cell_type": "code",
   "execution_count": 54,
   "id": "be46c7de-a033-4aae-a59b-90e0634bb723",
   "metadata": {},
   "outputs": [
    {
     "name": "stdout",
     "output_type": "stream",
     "text": [
      "\n",
      "Mean:\n",
      " Happiness Rank                   79.500000\n",
      "Happiness Score                   5.232500\n",
      "Standard Error                    0.043940\n",
      "Economy (GDP per Capita)          0.910245\n",
      "Family                            1.029510\n",
      "Health (Life Expectancy)          0.696705\n",
      "Freedom                           0.435515\n",
      "Trust (Government Corruption)     0.107220\n",
      "Generosity                        0.216130\n",
      "Dystopia Residual                 2.095415\n",
      "dtype: float64\n"
     ]
    }
   ],
   "source": [
    "print(\"\\nMean:\\n\",new_data.median())"
   ]
  },
  {
   "cell_type": "code",
   "execution_count": 55,
   "id": "359bb06f-2992-47ca-841f-c2ba49d33f22",
   "metadata": {},
   "outputs": [],
   "source": [
    "from numpy import cov"
   ]
  },
  {
   "cell_type": "code",
   "execution_count": 56,
   "id": "36582a32-460e-4032-a293-755efe97e5ad",
   "metadata": {},
   "outputs": [
    {
     "data": {
      "text/plain": [
       "0      0.66557\n",
       "1      0.62877\n",
       "2      0.64938\n",
       "3      0.66973\n",
       "4      0.63297\n",
       "        ...   \n",
       "153    0.59201\n",
       "154    0.48450\n",
       "155    0.15684\n",
       "156    0.11850\n",
       "157    0.36453\n",
       "Name: Freedom, Length: 158, dtype: float64"
      ]
     },
     "execution_count": 56,
     "metadata": {},
     "output_type": "execute_result"
    }
   ],
   "source": [
    "data1= data.Family\n",
    "data2 = data.Freedom\n",
    "data1\n",
    "data2"
   ]
  },
  {
   "cell_type": "code",
   "execution_count": 57,
   "id": "34289b05-509d-45c0-ac97-f0f4782c811c",
   "metadata": {},
   "outputs": [
    {
     "name": "stdout",
     "output_type": "stream",
     "text": [
      "[[0.07418492 0.0181217 ]\n",
      " [0.0181217  0.02270832]]\n"
     ]
    }
   ],
   "source": [
    "covariance=cov(data1,data2)\n",
    "print(covariance)"
   ]
  },
  {
   "cell_type": "code",
   "execution_count": 58,
   "id": "051cf157-8e72-49e3-9032-0691e2ecaf59",
   "metadata": {},
   "outputs": [
    {
     "name": "stdout",
     "output_type": "stream",
     "text": [
      "0.44151821062286056\n"
     ]
    }
   ],
   "source": [
    "#correlation\n",
    "from scipy.stats import pearsonr\n",
    "data1=data.Family\n",
    "data2=data.Freedom\n",
    "corr,_=pearsonr(data1,data2)\n",
    "print(corr)"
   ]
  },
  {
   "cell_type": "markdown",
   "id": "6d2acbe2-1d3a-4cfe-a4bf-c09c8b732ab1",
   "metadata": {},
   "source": [
    "# Data2"
   ]
  },
  {
   "cell_type": "code",
   "execution_count": 61,
   "id": "3f971446-d31a-423e-9fb7-a7fb8aa92654",
   "metadata": {},
   "outputs": [
    {
     "data": {
      "text/html": [
       "<div>\n",
       "<style scoped>\n",
       "    .dataframe tbody tr th:only-of-type {\n",
       "        vertical-align: middle;\n",
       "    }\n",
       "\n",
       "    .dataframe tbody tr th {\n",
       "        vertical-align: top;\n",
       "    }\n",
       "\n",
       "    .dataframe thead th {\n",
       "        text-align: right;\n",
       "    }\n",
       "</style>\n",
       "<table border=\"1\" class=\"dataframe\">\n",
       "  <thead>\n",
       "    <tr style=\"text-align: right;\">\n",
       "      <th></th>\n",
       "      <th>Age</th>\n",
       "      <th>Sex</th>\n",
       "      <th>BP</th>\n",
       "      <th>Cholesterol</th>\n",
       "      <th>Na_to_K</th>\n",
       "      <th>Drug</th>\n",
       "    </tr>\n",
       "  </thead>\n",
       "  <tbody>\n",
       "    <tr>\n",
       "      <th>0</th>\n",
       "      <td>23</td>\n",
       "      <td>F</td>\n",
       "      <td>HIGH</td>\n",
       "      <td>HIGH</td>\n",
       "      <td>25.355</td>\n",
       "      <td>drugY</td>\n",
       "    </tr>\n",
       "    <tr>\n",
       "      <th>1</th>\n",
       "      <td>47</td>\n",
       "      <td>M</td>\n",
       "      <td>LOW</td>\n",
       "      <td>HIGH</td>\n",
       "      <td>13.093</td>\n",
       "      <td>drugC</td>\n",
       "    </tr>\n",
       "    <tr>\n",
       "      <th>2</th>\n",
       "      <td>47</td>\n",
       "      <td>M</td>\n",
       "      <td>LOW</td>\n",
       "      <td>HIGH</td>\n",
       "      <td>10.114</td>\n",
       "      <td>drugC</td>\n",
       "    </tr>\n",
       "    <tr>\n",
       "      <th>3</th>\n",
       "      <td>28</td>\n",
       "      <td>F</td>\n",
       "      <td>NORMAL</td>\n",
       "      <td>HIGH</td>\n",
       "      <td>7.798</td>\n",
       "      <td>drugX</td>\n",
       "    </tr>\n",
       "    <tr>\n",
       "      <th>4</th>\n",
       "      <td>61</td>\n",
       "      <td>F</td>\n",
       "      <td>LOW</td>\n",
       "      <td>HIGH</td>\n",
       "      <td>18.043</td>\n",
       "      <td>drugY</td>\n",
       "    </tr>\n",
       "    <tr>\n",
       "      <th>...</th>\n",
       "      <td>...</td>\n",
       "      <td>...</td>\n",
       "      <td>...</td>\n",
       "      <td>...</td>\n",
       "      <td>...</td>\n",
       "      <td>...</td>\n",
       "    </tr>\n",
       "    <tr>\n",
       "      <th>195</th>\n",
       "      <td>56</td>\n",
       "      <td>F</td>\n",
       "      <td>LOW</td>\n",
       "      <td>HIGH</td>\n",
       "      <td>11.567</td>\n",
       "      <td>drugC</td>\n",
       "    </tr>\n",
       "    <tr>\n",
       "      <th>196</th>\n",
       "      <td>16</td>\n",
       "      <td>M</td>\n",
       "      <td>LOW</td>\n",
       "      <td>HIGH</td>\n",
       "      <td>12.006</td>\n",
       "      <td>drugC</td>\n",
       "    </tr>\n",
       "    <tr>\n",
       "      <th>197</th>\n",
       "      <td>52</td>\n",
       "      <td>M</td>\n",
       "      <td>NORMAL</td>\n",
       "      <td>HIGH</td>\n",
       "      <td>9.894</td>\n",
       "      <td>drugX</td>\n",
       "    </tr>\n",
       "    <tr>\n",
       "      <th>198</th>\n",
       "      <td>23</td>\n",
       "      <td>M</td>\n",
       "      <td>NORMAL</td>\n",
       "      <td>NORMAL</td>\n",
       "      <td>14.020</td>\n",
       "      <td>drugX</td>\n",
       "    </tr>\n",
       "    <tr>\n",
       "      <th>199</th>\n",
       "      <td>40</td>\n",
       "      <td>F</td>\n",
       "      <td>LOW</td>\n",
       "      <td>NORMAL</td>\n",
       "      <td>11.349</td>\n",
       "      <td>drugX</td>\n",
       "    </tr>\n",
       "  </tbody>\n",
       "</table>\n",
       "<p>200 rows × 6 columns</p>\n",
       "</div>"
      ],
      "text/plain": [
       "     Age Sex      BP Cholesterol  Na_to_K   Drug\n",
       "0     23   F    HIGH        HIGH   25.355  drugY\n",
       "1     47   M     LOW        HIGH   13.093  drugC\n",
       "2     47   M     LOW        HIGH   10.114  drugC\n",
       "3     28   F  NORMAL        HIGH    7.798  drugX\n",
       "4     61   F     LOW        HIGH   18.043  drugY\n",
       "..   ...  ..     ...         ...      ...    ...\n",
       "195   56   F     LOW        HIGH   11.567  drugC\n",
       "196   16   M     LOW        HIGH   12.006  drugC\n",
       "197   52   M  NORMAL        HIGH    9.894  drugX\n",
       "198   23   M  NORMAL      NORMAL   14.020  drugX\n",
       "199   40   F     LOW      NORMAL   11.349  drugX\n",
       "\n",
       "[200 rows x 6 columns]"
      ]
     },
     "execution_count": 61,
     "metadata": {},
     "output_type": "execute_result"
    }
   ],
   "source": [
    "import pandas as pd\n",
    "data2=pd.read_csv(\"C:/Users/DELL Latitude E5490/Downloads/4_Drug200.csv\")\n",
    "data2"
   ]
  },
  {
   "cell_type": "code",
   "execution_count": 62,
   "id": "12145d10-bc0f-42aa-8ead-a78c444c5a56",
   "metadata": {},
   "outputs": [
    {
     "name": "stdout",
     "output_type": "stream",
     "text": [
      "Age                                                         8863\n",
      "Sex            FMMFFFFMMMFFMFFFMMMFMMMFFFMFFMFMMFMMMMFMFFMMFF...\n",
      "BP             HIGHLOWLOWNORMALLOWNORMALNORMALLOWNORMALLOWLOW...\n",
      "Cholesterol    HIGHHIGHHIGHHIGHHIGHHIGHHIGHHIGHHIGHNORMALHIGH...\n",
      "Na_to_K                                                 3216.897\n",
      "Drug           drugYdrugCdrugCdrugXdrugYdrugXdrugYdrugCdrugYd...\n",
      "dtype: object\n"
     ]
    }
   ],
   "source": [
    "print(data2.sum())"
   ]
  },
  {
   "cell_type": "code",
   "execution_count": 63,
   "id": "1a0202a4-e7c9-4666-a7a0-cd13227ac3e6",
   "metadata": {},
   "outputs": [
    {
     "name": "stdout",
     "output_type": "stream",
     "text": [
      "      Age                                                Sex  \\\n",
      "0      23                                                  F   \n",
      "1      70                                                 FM   \n",
      "2     117                                                FMM   \n",
      "3     145                                               FMMF   \n",
      "4     206                                              FMMFF   \n",
      "..    ...                                                ...   \n",
      "195  8732  FMMFFFFMMMFFMFFFMMMFMMMFFFMFFMFMMFMMMMFMFFMMFF...   \n",
      "196  8748  FMMFFFFMMMFFMFFFMMMFMMMFFFMFFMFMMFMMMMFMFFMMFF...   \n",
      "197  8800  FMMFFFFMMMFFMFFFMMMFMMMFFFMFFMFMMFMMMMFMFFMMFF...   \n",
      "198  8823  FMMFFFFMMMFFMFFFMMMFMMMFFFMFFMFMMFMMMMFMFFMMFF...   \n",
      "199  8863  FMMFFFFMMMFFMFFFMMMFMMMFFFMFFMFMMFMMMMFMFFMMFF...   \n",
      "\n",
      "                                                    BP  \\\n",
      "0                                                 HIGH   \n",
      "1                                              HIGHLOW   \n",
      "2                                           HIGHLOWLOW   \n",
      "3                                     HIGHLOWLOWNORMAL   \n",
      "4                                  HIGHLOWLOWNORMALLOW   \n",
      "..                                                 ...   \n",
      "195  HIGHLOWLOWNORMALLOWNORMALNORMALLOWNORMALLOWLOW...   \n",
      "196  HIGHLOWLOWNORMALLOWNORMALNORMALLOWNORMALLOWLOW...   \n",
      "197  HIGHLOWLOWNORMALLOWNORMALNORMALLOWNORMALLOWLOW...   \n",
      "198  HIGHLOWLOWNORMALLOWNORMALNORMALLOWNORMALLOWLOW...   \n",
      "199  HIGHLOWLOWNORMALLOWNORMALNORMALLOWNORMALLOWLOW...   \n",
      "\n",
      "                                           Cholesterol   Na_to_K  \\\n",
      "0                                                 HIGH    25.355   \n",
      "1                                             HIGHHIGH    38.448   \n",
      "2                                         HIGHHIGHHIGH    48.562   \n",
      "3                                     HIGHHIGHHIGHHIGH    56.360   \n",
      "4                                 HIGHHIGHHIGHHIGHHIGH    74.403   \n",
      "..                                                 ...       ...   \n",
      "195  HIGHHIGHHIGHHIGHHIGHHIGHHIGHHIGHHIGHNORMALHIGH...  3169.628   \n",
      "196  HIGHHIGHHIGHHIGHHIGHHIGHHIGHHIGHHIGHNORMALHIGH...  3181.634   \n",
      "197  HIGHHIGHHIGHHIGHHIGHHIGHHIGHHIGHHIGHNORMALHIGH...  3191.528   \n",
      "198  HIGHHIGHHIGHHIGHHIGHHIGHHIGHHIGHHIGHNORMALHIGH...  3205.548   \n",
      "199  HIGHHIGHHIGHHIGHHIGHHIGHHIGHHIGHHIGHNORMALHIGH...  3216.897   \n",
      "\n",
      "                                                  Drug  \n",
      "0                                                drugY  \n",
      "1                                           drugYdrugC  \n",
      "2                                      drugYdrugCdrugC  \n",
      "3                                 drugYdrugCdrugCdrugX  \n",
      "4                            drugYdrugCdrugCdrugXdrugY  \n",
      "..                                                 ...  \n",
      "195  drugYdrugCdrugCdrugXdrugYdrugXdrugYdrugCdrugYd...  \n",
      "196  drugYdrugCdrugCdrugXdrugYdrugXdrugYdrugCdrugYd...  \n",
      "197  drugYdrugCdrugCdrugXdrugYdrugXdrugYdrugCdrugYd...  \n",
      "198  drugYdrugCdrugCdrugXdrugYdrugXdrugYdrugCdrugYd...  \n",
      "199  drugYdrugCdrugCdrugXdrugYdrugXdrugYdrugCdrugYd...  \n",
      "\n",
      "[200 rows x 6 columns]\n"
     ]
    }
   ],
   "source": [
    "print(data2.cumsum())"
   ]
  },
  {
   "cell_type": "code",
   "execution_count": 64,
   "id": "64734042-f9ce-4d4b-9a1a-0928a43be6d6",
   "metadata": {},
   "outputs": [
    {
     "name": "stdout",
     "output_type": "stream",
     "text": [
      "Age            200\n",
      "Sex            200\n",
      "BP             200\n",
      "Cholesterol    200\n",
      "Na_to_K        200\n",
      "Drug           200\n",
      "dtype: int64\n"
     ]
    }
   ],
   "source": [
    "print(data2.count())"
   ]
  },
  {
   "cell_type": "code",
   "execution_count": 65,
   "id": "70521957-5bfa-44d9-94c2-d6814d1c7604",
   "metadata": {},
   "outputs": [
    {
     "name": "stdout",
     "output_type": "stream",
     "text": [
      "Age               15\n",
      "Sex                F\n",
      "BP              HIGH\n",
      "Cholesterol     HIGH\n",
      "Na_to_K        6.269\n",
      "Drug           drugA\n",
      "dtype: object\n"
     ]
    }
   ],
   "source": [
    "print(data2.min())"
   ]
  },
  {
   "cell_type": "code",
   "execution_count": 66,
   "id": "d38ad219-439b-4515-8ed1-fe028faf3f59",
   "metadata": {},
   "outputs": [
    {
     "name": "stdout",
     "output_type": "stream",
     "text": [
      "Age                74\n",
      "Sex                 M\n",
      "BP             NORMAL\n",
      "Cholesterol    NORMAL\n",
      "Na_to_K        38.247\n",
      "Drug            drugY\n",
      "dtype: object\n"
     ]
    }
   ],
   "source": [
    "print(data2.max())"
   ]
  },
  {
   "cell_type": "code",
   "execution_count": 67,
   "id": "ae7e17db-3926-4e39-9937-9b0e5f07cfb2",
   "metadata": {},
   "outputs": [
    {
     "data": {
      "text/html": [
       "<div>\n",
       "<style scoped>\n",
       "    .dataframe tbody tr th:only-of-type {\n",
       "        vertical-align: middle;\n",
       "    }\n",
       "\n",
       "    .dataframe tbody tr th {\n",
       "        vertical-align: top;\n",
       "    }\n",
       "\n",
       "    .dataframe thead th {\n",
       "        text-align: right;\n",
       "    }\n",
       "</style>\n",
       "<table border=\"1\" class=\"dataframe\">\n",
       "  <thead>\n",
       "    <tr style=\"text-align: right;\">\n",
       "      <th></th>\n",
       "      <th>Age</th>\n",
       "      <th>Sex</th>\n",
       "      <th>BP</th>\n",
       "      <th>Cholesterol</th>\n",
       "      <th>Na_to_K</th>\n",
       "      <th>Drug</th>\n",
       "    </tr>\n",
       "  </thead>\n",
       "  <tbody>\n",
       "    <tr>\n",
       "      <th>0</th>\n",
       "      <td>23</td>\n",
       "      <td>F</td>\n",
       "      <td>2</td>\n",
       "      <td>2</td>\n",
       "      <td>25.355</td>\n",
       "      <td>drugY</td>\n",
       "    </tr>\n",
       "    <tr>\n",
       "      <th>1</th>\n",
       "      <td>47</td>\n",
       "      <td>M</td>\n",
       "      <td>0</td>\n",
       "      <td>2</td>\n",
       "      <td>13.093</td>\n",
       "      <td>drugC</td>\n",
       "    </tr>\n",
       "    <tr>\n",
       "      <th>2</th>\n",
       "      <td>47</td>\n",
       "      <td>M</td>\n",
       "      <td>0</td>\n",
       "      <td>2</td>\n",
       "      <td>10.114</td>\n",
       "      <td>drugC</td>\n",
       "    </tr>\n",
       "    <tr>\n",
       "      <th>3</th>\n",
       "      <td>28</td>\n",
       "      <td>F</td>\n",
       "      <td>1</td>\n",
       "      <td>2</td>\n",
       "      <td>7.798</td>\n",
       "      <td>drugX</td>\n",
       "    </tr>\n",
       "    <tr>\n",
       "      <th>4</th>\n",
       "      <td>61</td>\n",
       "      <td>F</td>\n",
       "      <td>0</td>\n",
       "      <td>2</td>\n",
       "      <td>18.043</td>\n",
       "      <td>drugY</td>\n",
       "    </tr>\n",
       "    <tr>\n",
       "      <th>...</th>\n",
       "      <td>...</td>\n",
       "      <td>...</td>\n",
       "      <td>...</td>\n",
       "      <td>...</td>\n",
       "      <td>...</td>\n",
       "      <td>...</td>\n",
       "    </tr>\n",
       "    <tr>\n",
       "      <th>195</th>\n",
       "      <td>56</td>\n",
       "      <td>F</td>\n",
       "      <td>0</td>\n",
       "      <td>2</td>\n",
       "      <td>11.567</td>\n",
       "      <td>drugC</td>\n",
       "    </tr>\n",
       "    <tr>\n",
       "      <th>196</th>\n",
       "      <td>16</td>\n",
       "      <td>M</td>\n",
       "      <td>0</td>\n",
       "      <td>2</td>\n",
       "      <td>12.006</td>\n",
       "      <td>drugC</td>\n",
       "    </tr>\n",
       "    <tr>\n",
       "      <th>197</th>\n",
       "      <td>52</td>\n",
       "      <td>M</td>\n",
       "      <td>1</td>\n",
       "      <td>2</td>\n",
       "      <td>9.894</td>\n",
       "      <td>drugX</td>\n",
       "    </tr>\n",
       "    <tr>\n",
       "      <th>198</th>\n",
       "      <td>23</td>\n",
       "      <td>M</td>\n",
       "      <td>1</td>\n",
       "      <td>1</td>\n",
       "      <td>14.020</td>\n",
       "      <td>drugX</td>\n",
       "    </tr>\n",
       "    <tr>\n",
       "      <th>199</th>\n",
       "      <td>40</td>\n",
       "      <td>F</td>\n",
       "      <td>0</td>\n",
       "      <td>1</td>\n",
       "      <td>11.349</td>\n",
       "      <td>drugX</td>\n",
       "    </tr>\n",
       "  </tbody>\n",
       "</table>\n",
       "<p>200 rows × 6 columns</p>\n",
       "</div>"
      ],
      "text/plain": [
       "     Age Sex  BP  Cholesterol  Na_to_K   Drug\n",
       "0     23   F   2            2   25.355  drugY\n",
       "1     47   M   0            2   13.093  drugC\n",
       "2     47   M   0            2   10.114  drugC\n",
       "3     28   F   1            2    7.798  drugX\n",
       "4     61   F   0            2   18.043  drugY\n",
       "..   ...  ..  ..          ...      ...    ...\n",
       "195   56   F   0            2   11.567  drugC\n",
       "196   16   M   0            2   12.006  drugC\n",
       "197   52   M   1            2    9.894  drugX\n",
       "198   23   M   1            1   14.020  drugX\n",
       "199   40   F   0            1   11.349  drugX\n",
       "\n",
       "[200 rows x 6 columns]"
      ]
     },
     "execution_count": 67,
     "metadata": {},
     "output_type": "execute_result"
    }
   ],
   "source": [
    "#Changing High, Normal and Low to 2, 1 and 0 respectively...\n",
    "BP = {\"BP\":{\"LOW\":0,\"NORMAL\":1,\"HIGH\":2}}\n",
    "data2 = data2.replace(BP)\n",
    "Cholesterol = {\"Cholesterol\":{\"LOW\":0,\"NORMAL\":1,\"HIGH\":2}}\n",
    "data2 = data2.replace(Cholesterol)\n",
    "data2"
   ]
  },
  {
   "cell_type": "code",
   "execution_count": 68,
   "id": "2ece215f-f1ee-463b-afc2-28814e11e74f",
   "metadata": {},
   "outputs": [],
   "source": [
    "new_data2 = data2.drop([\"Drug\",\"Sex\"],axis=1)"
   ]
  },
  {
   "cell_type": "code",
   "execution_count": 69,
   "id": "05459897-670f-49b4-8725-86d6658382ba",
   "metadata": {},
   "outputs": [
    {
     "name": "stdout",
     "output_type": "stream",
     "text": [
      "Age            44.315000\n",
      "BP              1.065000\n",
      "Cholesterol     1.515000\n",
      "Na_to_K        16.084485\n",
      "dtype: float64\n"
     ]
    }
   ],
   "source": [
    "print(new_data2.mean())"
   ]
  },
  {
   "cell_type": "code",
   "execution_count": 70,
   "id": "81c4280d-f714-4e40-b952-96afaa3c0b86",
   "metadata": {},
   "outputs": [
    {
     "name": "stdout",
     "output_type": "stream",
     "text": [
      "    Age   BP  Cholesterol  Na_to_K\n",
      "0  47.0  2.0          2.0   12.006\n",
      "1   NaN  NaN          NaN   18.295\n"
     ]
    }
   ],
   "source": [
    "print(new_data2.mode())"
   ]
  },
  {
   "cell_type": "code",
   "execution_count": 71,
   "id": "0ed1f3bc-b5b5-4e31-a4dc-6cc3b69120c5",
   "metadata": {},
   "outputs": [
    {
     "name": "stdout",
     "output_type": "stream",
     "text": [
      "Age            45.0000\n",
      "BP              1.0000\n",
      "Cholesterol     2.0000\n",
      "Na_to_K        13.9365\n",
      "dtype: float64\n"
     ]
    }
   ],
   "source": [
    "print(new_data2.median())"
   ]
  },
  {
   "cell_type": "code",
   "execution_count": 72,
   "id": "26eb45c3-a057-4c96-8c8b-d3bd08599f80",
   "metadata": {},
   "outputs": [
    {
     "name": "stdout",
     "output_type": "stream",
     "text": [
      "              Age          BP  Cholesterol     Na_to_K\n",
      "count  200.000000  200.000000   200.000000  200.000000\n",
      "mean    44.315000    1.065000     1.515000   16.084485\n",
      "std     16.544315    0.839224     0.501029    7.223956\n",
      "min     15.000000    0.000000     1.000000    6.269000\n",
      "25%     31.000000    0.000000     1.000000   10.445500\n",
      "50%     45.000000    1.000000     2.000000   13.936500\n",
      "75%     58.000000    2.000000     2.000000   19.380000\n",
      "max     74.000000    2.000000     2.000000   38.247000\n"
     ]
    }
   ],
   "source": [
    "print(new_data2.describe())\n"
   ]
  },
  {
   "cell_type": "code",
   "execution_count": 73,
   "id": "e5247229-2297-44e5-9107-63b2cd3428bf",
   "metadata": {},
   "outputs": [],
   "source": [
    "from numpy import cov"
   ]
  },
  {
   "cell_type": "code",
   "execution_count": 74,
   "id": "5c0da248-def9-477f-b846-4955ab9f74ab",
   "metadata": {},
   "outputs": [
    {
     "name": "stdout",
     "output_type": "stream",
     "text": [
      "0      23\n",
      "1      47\n",
      "2      47\n",
      "3      28\n",
      "4      61\n",
      "       ..\n",
      "195    56\n",
      "196    16\n",
      "197    52\n",
      "198    23\n",
      "199    40\n",
      "Name: Age, Length: 200, dtype: int64\n",
      "0      2\n",
      "1      2\n",
      "2      2\n",
      "3      2\n",
      "4      2\n",
      "      ..\n",
      "195    2\n",
      "196    2\n",
      "197    2\n",
      "198    1\n",
      "199    1\n",
      "Name: Cholesterol, Length: 200, dtype: int64\n"
     ]
    }
   ],
   "source": [
    "data3=data2.Age\n",
    "data4=data2.Cholesterol\n",
    "print(data3)\n",
    "print(data4)"
   ]
  },
  {
   "cell_type": "code",
   "execution_count": 75,
   "id": "8a0fc319-91ea-4e9c-b308-18b93b9e58e6",
   "metadata": {},
   "outputs": [
    {
     "name": "stdout",
     "output_type": "stream",
     "text": [
      "[[2.73714347e+02 5.65603015e-01]\n",
      " [5.65603015e-01 2.51030151e-01]]\n"
     ]
    }
   ],
   "source": [
    "covariance=cov(data3,data4)\n",
    "print(covariance)"
   ]
  },
  {
   "cell_type": "code",
   "execution_count": 76,
   "id": "eb014a1a-9f04-486a-8b10-a9b4c1f020df",
   "metadata": {},
   "outputs": [
    {
     "name": "stdout",
     "output_type": "stream",
     "text": [
      "0.06823386810675444\n"
     ]
    }
   ],
   "source": [
    "#correlation\n",
    "from scipy.stats import pearsonr\n",
    "data3=data2.Age\n",
    "data4=data2.Cholesterol\n",
    "corr,_=pearsonr(data3,data4)\n",
    "print(corr)"
   ]
  },
  {
   "cell_type": "code",
   "execution_count": null,
   "id": "49a98769-1650-4084-a533-08cc48ae42af",
   "metadata": {},
   "outputs": [],
   "source": []
  }
 ],
 "metadata": {
  "kernelspec": {
   "display_name": "Python 3 (ipykernel)",
   "language": "python",
   "name": "python3"
  },
  "language_info": {
   "codemirror_mode": {
    "name": "ipython",
    "version": 3
   },
   "file_extension": ".py",
   "mimetype": "text/x-python",
   "name": "python",
   "nbconvert_exporter": "python",
   "pygments_lexer": "ipython3",
   "version": "3.11.5"
  }
 },
 "nbformat": 4,
 "nbformat_minor": 5
}
